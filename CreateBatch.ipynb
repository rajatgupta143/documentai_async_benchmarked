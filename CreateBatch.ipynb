{
 "cells": [
  {
   "cell_type": "code",
   "execution_count": 113,
   "metadata": {},
   "outputs": [],
   "source": [
    "from google.cloud import storage\n",
    "import os\n",
    "\n",
    "\n",
    "def create_batches(\n",
    "):\n",
    "    \n",
    "    #Read all the files\n",
    "    storage_client = storage.Client()\n",
    "    bucket = storage_client.get_bucket('united_post')\n",
    "    blob_list = list(bucket.list_blobs(prefix='input'))\n",
    "    print(\"Output files:\")\n",
    "    \n",
    "    batch_counter=0\n",
    "    file_counter=0\n",
    "    batch_msg={}\n",
    "    for i, blob in enumerate(blob_list):\n",
    "        #print(blob.name)\n",
    "        #print(\"I:{}, file_counter:{}, batch_counter:{}\".format(i,file_counter, batch_counter))\n",
    "        batch_msg[\"batch_id\"]=batch_counter\n",
    "        if \".pdf\" in blob.name:            \n",
    "            file_id = \"file_name_\"+str(file_counter)\n",
    "            batch_msg[file_id]= blob.name[6:]\n",
    "            file_counter = file_counter+1\n",
    "        if (file_counter==5):\n",
    "            file_counter=0;\n",
    "            batch_counter=batch_counter+1\n",
    "            print(\"Batch message:{}\".format(batch_msg))\n",
    "            batch_msg={}\n",
    "    #print(\"I is:{}, lenth is:{}\".format(i,len(blob_list)))\n",
    "    if(i+1==len(blob_list)):\n",
    "        print(\"Batch message:{}\".format(batch_msg))\n",
    "\n",
    "    #Create a batch"
   ]
  },
  {
   "cell_type": "code",
   "execution_count": 114,
   "metadata": {},
   "outputs": [
    {
     "name": "stdout",
     "output_type": "stream",
     "text": [
      "Output files:\n",
      "Batch message:{'batch_id': 0, 'file_name_0': 'Invoice # 1.pdf', 'file_name_1': 'Invoice # 2.pdf', 'file_name_2': 'Invoice # 3.pdf', 'file_name_3': 'Invoice # 4.pdf', 'file_name_4': 'Invoice # 5.pdf'}\n",
      "I is:6, lenth is:7\n",
      "Batch message:{'batch_id': 1, 'file_name_0': 'Invoice # 6.pdf'}\n"
     ]
    }
   ],
   "source": [
    "create_batches()"
   ]
  },
  {
   "cell_type": "code",
   "execution_count": null,
   "metadata": {},
   "outputs": [],
   "source": []
  }
 ],
 "metadata": {
  "environment": {
   "name": "common-cpu.m49",
   "type": "gcloud",
   "uri": "gcr.io/deeplearning-platform-release/base-cpu:m49"
  },
  "kernelspec": {
   "display_name": "Python 3",
   "language": "python",
   "name": "python3"
  },
  "language_info": {
   "codemirror_mode": {
    "name": "ipython",
    "version": 3
   },
   "file_extension": ".py",
   "mimetype": "text/x-python",
   "name": "python",
   "nbconvert_exporter": "python",
   "pygments_lexer": "ipython3",
   "version": "3.7.6"
  }
 },
 "nbformat": 4,
 "nbformat_minor": 4
}
